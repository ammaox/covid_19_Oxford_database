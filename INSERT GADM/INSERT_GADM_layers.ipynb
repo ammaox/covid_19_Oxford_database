{
 "cells": [
  {
   "cell_type": "code",
   "execution_count": 4,
   "metadata": {},
   "outputs": [],
   "source": [
    "import psycopg2\n",
    "import numpy as np\n",
    "import pandas as pd\n",
    "import json\n",
    "\n",
    "# Connect to covid19db.org\n",
    "conn = psycopg2.connect(\n",
    "    host='covid19db.org',\n",
    "    port=5432,\n",
    "    dbname='', #ADD THE INFO\n",
    "    user='',\n",
    "    password=''\n",
    ")\n",
    "\n"
   ]
  },
  {
   "cell_type": "markdown",
   "metadata": {},
   "source": [
    "## THIS WORKS"
   ]
  },
  {
   "cell_type": "code",
   "execution_count": 22,
   "metadata": {},
   "outputs": [],
   "source": [
    "def import_feature_layer_1(cur,feature_data):\n",
    "    \n",
    "    INSERT_STATEMENT = 'INSERT INTO public.administrative_division \\\n",
    "                            (country, countrycode, countrycode_alpha2, \\\n",
    "                            adm_level, adm_area_1, adm_area_1_code, \\\n",
    "                            geometry, properties) \\\n",
    "                            VALUES (%s, %s, %s, %s, %s, %s, \\\n",
    "                            ST_SetSRID(ST_GeomFromGeoJSON(%s), 4326), %s);'\n",
    "    \n",
    "    \n",
    "    if feature_data.get('type') == 'FeatureCollection':\n",
    "        for feature in feature_data['features']:\n",
    "            import_feature_layer_1(cur, feature)\n",
    "    elif feature_data.get('type') == 'Feature':\n",
    "        geojson = json.dumps(feature_data['geometry'])\n",
    "        str_dict = dict((str(k), str(v)) for k, v in feature_data['properties'].items())\n",
    "        cur.execute(INSERT_STATEMENT, (str_dict['NAME_0'], str_dict['GID_0'], \"IT\",\n",
    "                                       1, str_dict['NAME_1'], str_dict['GID_1'],\n",
    "                                       geojson, json.dumps(str_dict)))"
   ]
  },
  {
   "cell_type": "code",
   "execution_count": null,
   "metadata": {},
   "outputs": [],
   "source": [
    "def import_feature_layer_2(cur,feature_data):\n",
    "    \n",
    "    INSERT_STATEMENT = 'INSERT INTO public.administrative_division \\\n",
    "                            (country, countrycode, countrycode_alpha2, \\\n",
    "                            adm_level, \\\n",
    "                            adm_area_1, adm_area_1_code, \\\n",
    "                            adm_area_2, adm_area_2_code, \\\n",
    "                            geometry, properties) \\\n",
    "                            VALUES (%s, %s, %s, %s, %s, %s, %s, %s, \\\n",
    "                            ST_SetSRID(ST_GeomFromGeoJSON(%s), 4326), %s);'\n",
    "    \n",
    "    \n",
    "    if feature_data.get('type') == 'FeatureCollection':\n",
    "        for feature in feature_data['features']:\n",
    "            import_feature_layer_2(cur, feature)\n",
    "    elif feature_data.get('type') == 'Feature':\n",
    "        geojson = json.dumps(feature_data['geometry'])\n",
    "        str_dict = dict((str(k), str(v)) for k, v in feature_data['properties'].items())\n",
    "        cur.execute(INSERT_STATEMENT, (str_dict['NAME_0'], str_dict['GID_0'], \"IT\",\n",
    "                                       2, \n",
    "                                       str_dict['NAME_1'], str_dict['GID_1'],\n",
    "                                       str_dict['NAME_2'], str_dict['GID_2'],\n",
    "                                       geojson, json.dumps(str_dict)))"
   ]
  },
  {
   "cell_type": "code",
   "execution_count": 24,
   "metadata": {},
   "outputs": [],
   "source": [
    "def import_feature_layer_3(cur,feature_data):\n",
    "    \n",
    "    INSERT_STATEMENT = 'INSERT INTO public.administrative_division \\\n",
    "                            (country, countrycode, countrycode_alpha2, \\\n",
    "                            adm_level, \\\n",
    "                            adm_area_1, adm_area_1_code, \\\n",
    "                            adm_area_2, adm_area_2_code, \\\n",
    "                            adm_area_3, adm_area_3_code, \\\n",
    "                            geometry, properties) \\\n",
    "                            VALUES (%s, %s, %s, %s, %s, %s, %s, %s, %s, %s,\\\n",
    "                            ST_SetSRID(ST_GeomFromGeoJSON(%s), 4326), %s);'\n",
    "    \n",
    "    \n",
    "    if feature_data.get('type') == 'FeatureCollection':\n",
    "        for feature in feature_data['features']:\n",
    "            import_feature_layer_3(cur, feature)\n",
    "    elif feature_data.get('type') == 'Feature':\n",
    "        geojson = json.dumps(feature_data['geometry'])\n",
    "        str_dict = dict((str(k), str(v)) for k, v in feature_data['properties'].items())\n",
    "        cur.execute(INSERT_STATEMENT, (str_dict['NAME_0'], str_dict['GID_0'], \"IT\",\n",
    "                                       1, \n",
    "                                       str_dict['NAME_1'], str_dict['GID_1'],\n",
    "                                       str_dict['NAME_2'], str_dict['GID_2'],\n",
    "                                       str_dict['NAME_3'], str_dict['GID_3'],\n",
    "                                       geojson, json.dumps(str_dict)))"
   ]
  },
  {
   "cell_type": "markdown",
   "metadata": {},
   "source": [
    "## WHEN I TRY TO ADD VALUES TO THE GID COLUMN I GET AN ERROR"
   ]
  },
  {
   "cell_type": "code",
   "execution_count": 16,
   "metadata": {},
   "outputs": [],
   "source": [
    "def import_feature_layer_1_WITH_GID(cur,feature_data):\n",
    "    \n",
    "    INSERT_STATEMENT = 'INSERT INTO public.administrative_division \\\n",
    "                            (country, countrycode, countrycode_alpha2, \\\n",
    "                            adm_level, adm_area_1, adm_area_1_code, \\\n",
    "                            gid, \\\n",
    "                            geometry, properties) \\\n",
    "                            VALUES (%s, %s, %s, %s, %s, %s, %s, \\\n",
    "                            ST_SetSRID(ST_GeomFromGeoJSON(%s), 4326), %s);'\n",
    "    \n",
    "    \n",
    "    if feature_data.get('type') == 'FeatureCollection':\n",
    "        for feature in feature_data['features']:\n",
    "            import_feature_layer_1_WITH_GID(cur, feature)\n",
    "    elif feature_data.get('type') == 'Feature':\n",
    "        geojson = json.dumps(feature_data['geometry'])\n",
    "        str_dict = dict((str(k), str(v)) for k, v in feature_data['properties'].items())\n",
    "        cur.execute(INSERT_STATEMENT, (str_dict['NAME_0'], str_dict['GID_0'], \"IT\",\n",
    "                                       1, str_dict['NAME_1'], str_dict['GID_1'],\n",
    "                                       str_dict['GID_1'],\n",
    "                                       geojson, json.dumps(str_dict)))"
   ]
  },
  {
   "cell_type": "code",
   "execution_count": 23,
   "metadata": {},
   "outputs": [],
   "source": [
    "# UPLOAD LAYER 1\n",
    "\n",
    "with open(\"data/ITA_1.json\", \"r\") as content:\n",
    "    feature_data = json.load(content)\n",
    "with conn:\n",
    "    with conn.cursor() as cur:\n",
    "        import_feature_layer_1(cur, feature_data)\n",
    "    conn.commit()"
   ]
  },
  {
   "cell_type": "code",
   "execution_count": null,
   "metadata": {},
   "outputs": [],
   "source": [
    "# UPLOAD LAYER 1 - WITH GID\n",
    "\n",
    "with open(\"data/ITA_1.json\", \"r\") as content:\n",
    "    feature_data = json.load(content)\n",
    "with conn:\n",
    "    with conn.cursor() as cur:\n",
    "        import_feature_layer_1_WITH_GID(cur, feature_data)\n",
    "    conn.commit()"
   ]
  },
  {
   "cell_type": "code",
   "execution_count": 17,
   "metadata": {},
   "outputs": [
    {
     "data": {
      "text/plain": [
       "{'GID_0': 'ITA',\n",
       " 'NAME_0': 'Italy',\n",
       " 'GID_1': 'ITA.1_1',\n",
       " 'NAME_1': 'Abruzzo',\n",
       " 'VARNAME_1': 'Abruzos|Abruzzen|Abruzzes|Abruzzi',\n",
       " 'NL_NAME_1': '',\n",
       " 'TYPE_1': 'Regione',\n",
       " 'ENGTYPE_1': 'Region',\n",
       " 'CC_1': '13',\n",
       " 'HASC_1': ''}"
      ]
     },
     "execution_count": 17,
     "metadata": {},
     "output_type": "execute_result"
    }
   ],
   "source": [
    "with open(\"data/ITA_1.json\", \"r\") as content:\n",
    "    feature_data = json.load(content)\n",
    "    \n",
    "feature_data[\"features\"][0][\"properties\"]"
   ]
  },
  {
   "cell_type": "code",
   "execution_count": null,
   "metadata": {},
   "outputs": [],
   "source": [
    "# UPLOAD LAYER 2\n",
    "\n",
    "with open(\"data/ITA_2.json\", \"r\") as content:\n",
    "    feature_data = json.load(content)\n",
    "with conn:\n",
    "    with conn.cursor() as cur:\n",
    "        import_feature_layer_2(cur, feature_data)\n",
    "    conn.commit()"
   ]
  },
  {
   "cell_type": "code",
   "execution_count": 26,
   "metadata": {},
   "outputs": [],
   "source": [
    "# UPLOAD LAYER 3\n",
    "\n",
    "with open(\"data/ITA_3.json\", \"r\") as content:\n",
    "    feature_data = json.load(content)\n",
    "with conn:\n",
    "    with conn.cursor() as cur:\n",
    "        import_feature_layer_3(cur, feature_data)\n",
    "    conn.commit()"
   ]
  },
  {
   "cell_type": "code",
   "execution_count": 25,
   "metadata": {},
   "outputs": [],
   "source": [
    "# sql = \"\"\"DELETE FROM public.administrative_division \"\"\"\n",
    "# with conn:\n",
    "#     with conn.cursor() as cur:\n",
    "#         cur.execute(sql)\n",
    "#     conn.commit()"
   ]
  },
  {
   "cell_type": "code",
   "execution_count": null,
   "metadata": {},
   "outputs": [],
   "source": []
  }
 ],
 "metadata": {
  "kernelspec": {
   "display_name": "Python 3",
   "language": "python",
   "name": "python3"
  },
  "language_info": {
   "codemirror_mode": {
    "name": "ipython",
    "version": 3
   },
   "file_extension": ".py",
   "mimetype": "text/x-python",
   "name": "python",
   "nbconvert_exporter": "python",
   "pygments_lexer": "ipython3",
   "version": "3.7.4"
  }
 },
 "nbformat": 4,
 "nbformat_minor": 2
}

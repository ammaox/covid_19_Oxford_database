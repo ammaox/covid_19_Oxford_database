{
 "cells": [
  {
   "cell_type": "code",
   "execution_count": 27,
   "metadata": {},
   "outputs": [],
   "source": [
    "import psycopg2\n",
    "import numpy as np\n",
    "import pandas as pd\n",
    "import json\n",
    "\n",
    "# Connect to covid19db.org\n",
    "conn = psycopg2.connect(\n",
    "    host='covid19db.org',\n",
    "    port=5432,\n",
    "    dbname='', #ADD THE INFO\n",
    "    user='',\n",
    "    password=''\n",
    ")\n",
    "\n"
   ]
  },
  {
   "cell_type": "markdown",
   "metadata": {},
   "source": [
    "## THIS WORKS"
   ]
  },
  {
   "cell_type": "code",
   "execution_count": 30,
   "metadata": {},
   "outputs": [],
   "source": [
    "def import_feature_layer_1(cur,feature_data):\n",
    "    \n",
    "    INSERT_STATEMENT = 'INSERT INTO public.administrative_division \\\n",
    "                            (country, countrycode, countrycode_alpha2, \\\n",
    "                            adm_level, adm_area_1, adm_area_1_code, \\\n",
    "                            geometry, properties) \\\n",
    "                            VALUES (%s, %s, %s, %s, %s, %s, \\\n",
    "                            ST_SetSRID(ST_GeomFromGeoJSON(%s), 4326), %s);'\n",
    "    \n",
    "    \n",
    "    if feature_data.get('type') == 'FeatureCollection':\n",
    "        for feature in feature_data['features']:\n",
    "            import_feature_layer_1(cur, feature)\n",
    "    elif feature_data.get('type') == 'Feature':\n",
    "        geojson = json.dumps(feature_data['geometry'])\n",
    "        str_dict = dict((str(k), str(v)) for k, v in feature_data['properties'].items())\n",
    "        cur.execute(INSERT_STATEMENT, (str_dict['NAME_0'], str_dict['GID_0'], \"IT\",\n",
    "                                       1, str_dict['NAME_1'], str_dict['GID_1'],\n",
    "                                       geojson, json.dumps(str_dict)))"
   ]
  },
  {
   "cell_type": "code",
   "execution_count": null,
   "metadata": {},
   "outputs": [],
   "source": [
    "def import_feature_layer_2(cur,feature_data):\n",
    "    \n",
    "    INSERT_STATEMENT = 'INSERT INTO public.administrative_division \\\n",
    "                            (country, countrycode, countrycode_alpha2, \\\n",
    "                            adm_level, \\\n",
    "                            adm_area_1, adm_area_1_code, \\\n",
    "                            adm_area_2, adm_area_2_code, \\\n",
    "                            geometry, properties) \\\n",
    "                            VALUES (%s, %s, %s, %s, %s, %s, %s, %s, \\\n",
    "                            ST_SetSRID(ST_GeomFromGeoJSON(%s), 4326), %s);'\n",
    "    \n",
    "    \n",
    "    if feature_data.get('type') == 'FeatureCollection':\n",
    "        for feature in feature_data['features']:\n",
    "            import_feature_layer_2(cur, feature)\n",
    "    elif feature_data.get('type') == 'Feature':\n",
    "        geojson = json.dumps(feature_data['geometry'])\n",
    "        str_dict = dict((str(k), str(v)) for k, v in feature_data['properties'].items())\n",
    "        cur.execute(INSERT_STATEMENT, (str_dict['NAME_0'], str_dict['GID_0'], \"IT\",\n",
    "                                       2, \n",
    "                                       str_dict['NAME_1'], str_dict['GID_1'],\n",
    "                                       str_dict['NAME_2'], str_dict['GID_2'],\n",
    "                                       geojson, json.dumps(str_dict)))"
   ]
  },
  {
   "cell_type": "code",
   "execution_count": 24,
   "metadata": {},
   "outputs": [],
   "source": [
    "def import_feature_layer_3(cur,feature_data):\n",
    "    \n",
    "    INSERT_STATEMENT = 'INSERT INTO public.administrative_division \\\n",
    "                            (country, countrycode, countrycode_alpha2, \\\n",
    "                            adm_level, \\\n",
    "                            adm_area_1, adm_area_1_code, \\\n",
    "                            adm_area_2, adm_area_2_code, \\\n",
    "                            adm_area_3, adm_area_3_code, \\\n",
    "                            geometry, properties) \\\n",
    "                            VALUES (%s, %s, %s, %s, %s, %s, %s, %s, %s, %s,\\\n",
    "                            ST_SetSRID(ST_GeomFromGeoJSON(%s), 4326), %s);'\n",
    "    \n",
    "    \n",
    "    if feature_data.get('type') == 'FeatureCollection':\n",
    "        for feature in feature_data['features']:\n",
    "            import_feature_layer_3(cur, feature)\n",
    "    elif feature_data.get('type') == 'Feature':\n",
    "        geojson = json.dumps(feature_data['geometry'])\n",
    "        str_dict = dict((str(k), str(v)) for k, v in feature_data['properties'].items())\n",
    "        cur.execute(INSERT_STATEMENT, (str_dict['NAME_0'], str_dict['GID_0'], \"IT\",\n",
    "                                       3, \n",
    "                                       str_dict['NAME_1'], str_dict['GID_1'],\n",
    "                                       str_dict['NAME_2'], str_dict['GID_2'],\n",
    "                                       str_dict['NAME_3'], str_dict['GID_3'],\n",
    "                                       geojson, json.dumps(str_dict)))"
   ]
  },
  {
   "cell_type": "markdown",
   "metadata": {},
   "source": [
    "## WHEN I TRY TO ADD VALUES TO THE GID COLUMN I GET AN ERROR"
   ]
  },
  {
   "cell_type": "code",
   "execution_count": 28,
   "metadata": {},
   "outputs": [],
   "source": [
    "def import_feature_layer_1_WITH_GID(cur,feature_data):\n",
    "    \n",
    "    INSERT_STATEMENT = 'INSERT INTO public.administrative_division \\\n",
    "                            (country, countrycode, countrycode_alpha2, \\\n",
    "                            adm_level, adm_area_1, adm_area_1_code, \\\n",
    "                            gid, \\\n",
    "                            geometry, properties) \\\n",
    "                            VALUES (%s, %s, %s, %s, %s, %s, %s, \\\n",
    "                            ST_SetSRID(ST_GeomFromGeoJSON(%s), 4326), %s);'\n",
    "    \n",
    "    \n",
    "    if feature_data.get('type') == 'FeatureCollection':\n",
    "        for feature in feature_data['features']:\n",
    "            import_feature_layer_1_WITH_GID(cur, feature)\n",
    "    elif feature_data.get('type') == 'Feature':\n",
    "        geojson = json.dumps(feature_data['geometry'])\n",
    "        str_dict = dict((str(k), str(v)) for k, v in feature_data['properties'].items())\n",
    "        cur.execute(INSERT_STATEMENT, (str_dict['NAME_0'], str_dict['GID_0'], \"IT\",\n",
    "                                       1, str_dict['NAME_1'], str_dict['GID_1'],\n",
    "                                       str_dict['GID_1'],\n",
    "                                       geojson, json.dumps(str_dict)))"
   ]
  },
  {
   "cell_type": "code",
   "execution_count": 31,
   "metadata": {},
   "outputs": [],
   "source": [
    "# UPLOAD LAYER 1\n",
    "\n",
    "with open(\"data/ITA_1.json\", \"r\") as content:\n",
    "    feature_data = json.load(content)\n",
    "with conn:\n",
    "    with conn.cursor() as cur:\n",
    "        import_feature_layer_1(cur, feature_data)\n",
    "    conn.commit()"
   ]
  },
  {
   "cell_type": "code",
   "execution_count": 29,
   "metadata": {},
   "outputs": [
    {
     "ename": "UndefinedColumn",
     "evalue": "column \"gid\" of relation \"administrative_division\" does not exist\nLINE 1: ...a_1, adm_area_1_code,                             gid,      ...\n                                                             ^\n",
     "output_type": "error",
     "traceback": [
      "\u001b[0;31m---------------------------------------------------------------------------\u001b[0m",
      "\u001b[0;31mUndefinedColumn\u001b[0m                           Traceback (most recent call last)",
      "\u001b[0;32m<ipython-input-29-e020a51fbfaf>\u001b[0m in \u001b[0;36m<module>\u001b[0;34m\u001b[0m\n\u001b[1;32m      5\u001b[0m \u001b[0;32mwith\u001b[0m \u001b[0mconn\u001b[0m\u001b[0;34m:\u001b[0m\u001b[0;34m\u001b[0m\u001b[0;34m\u001b[0m\u001b[0m\n\u001b[1;32m      6\u001b[0m     \u001b[0;32mwith\u001b[0m \u001b[0mconn\u001b[0m\u001b[0;34m.\u001b[0m\u001b[0mcursor\u001b[0m\u001b[0;34m(\u001b[0m\u001b[0;34m)\u001b[0m \u001b[0;32mas\u001b[0m \u001b[0mcur\u001b[0m\u001b[0;34m:\u001b[0m\u001b[0;34m\u001b[0m\u001b[0;34m\u001b[0m\u001b[0m\n\u001b[0;32m----> 7\u001b[0;31m         \u001b[0mimport_feature_layer_1_WITH_GID\u001b[0m\u001b[0;34m(\u001b[0m\u001b[0mcur\u001b[0m\u001b[0;34m,\u001b[0m \u001b[0mfeature_data\u001b[0m\u001b[0;34m)\u001b[0m\u001b[0;34m\u001b[0m\u001b[0;34m\u001b[0m\u001b[0m\n\u001b[0m\u001b[1;32m      8\u001b[0m     \u001b[0mconn\u001b[0m\u001b[0;34m.\u001b[0m\u001b[0mcommit\u001b[0m\u001b[0;34m(\u001b[0m\u001b[0;34m)\u001b[0m\u001b[0;34m\u001b[0m\u001b[0;34m\u001b[0m\u001b[0m\n",
      "\u001b[0;32m<ipython-input-28-7cf68ba492fa>\u001b[0m in \u001b[0;36mimport_feature_layer_1_WITH_GID\u001b[0;34m(cur, feature_data)\u001b[0m\n\u001b[1;32m     12\u001b[0m     \u001b[0;32mif\u001b[0m \u001b[0mfeature_data\u001b[0m\u001b[0;34m.\u001b[0m\u001b[0mget\u001b[0m\u001b[0;34m(\u001b[0m\u001b[0;34m'type'\u001b[0m\u001b[0;34m)\u001b[0m \u001b[0;34m==\u001b[0m \u001b[0;34m'FeatureCollection'\u001b[0m\u001b[0;34m:\u001b[0m\u001b[0;34m\u001b[0m\u001b[0;34m\u001b[0m\u001b[0m\n\u001b[1;32m     13\u001b[0m         \u001b[0;32mfor\u001b[0m \u001b[0mfeature\u001b[0m \u001b[0;32min\u001b[0m \u001b[0mfeature_data\u001b[0m\u001b[0;34m[\u001b[0m\u001b[0;34m'features'\u001b[0m\u001b[0;34m]\u001b[0m\u001b[0;34m:\u001b[0m\u001b[0;34m\u001b[0m\u001b[0;34m\u001b[0m\u001b[0m\n\u001b[0;32m---> 14\u001b[0;31m             \u001b[0mimport_feature_layer_1_WITH_GID\u001b[0m\u001b[0;34m(\u001b[0m\u001b[0mcur\u001b[0m\u001b[0;34m,\u001b[0m \u001b[0mfeature\u001b[0m\u001b[0;34m)\u001b[0m\u001b[0;34m\u001b[0m\u001b[0;34m\u001b[0m\u001b[0m\n\u001b[0m\u001b[1;32m     15\u001b[0m     \u001b[0;32melif\u001b[0m \u001b[0mfeature_data\u001b[0m\u001b[0;34m.\u001b[0m\u001b[0mget\u001b[0m\u001b[0;34m(\u001b[0m\u001b[0;34m'type'\u001b[0m\u001b[0;34m)\u001b[0m \u001b[0;34m==\u001b[0m \u001b[0;34m'Feature'\u001b[0m\u001b[0;34m:\u001b[0m\u001b[0;34m\u001b[0m\u001b[0;34m\u001b[0m\u001b[0m\n\u001b[1;32m     16\u001b[0m         \u001b[0mgeojson\u001b[0m \u001b[0;34m=\u001b[0m \u001b[0mjson\u001b[0m\u001b[0;34m.\u001b[0m\u001b[0mdumps\u001b[0m\u001b[0;34m(\u001b[0m\u001b[0mfeature_data\u001b[0m\u001b[0;34m[\u001b[0m\u001b[0;34m'geometry'\u001b[0m\u001b[0;34m]\u001b[0m\u001b[0;34m)\u001b[0m\u001b[0;34m\u001b[0m\u001b[0;34m\u001b[0m\u001b[0m\n",
      "\u001b[0;32m<ipython-input-28-7cf68ba492fa>\u001b[0m in \u001b[0;36mimport_feature_layer_1_WITH_GID\u001b[0;34m(cur, feature_data)\u001b[0m\n\u001b[1;32m     19\u001b[0m                                        \u001b[0;36m1\u001b[0m\u001b[0;34m,\u001b[0m \u001b[0mstr_dict\u001b[0m\u001b[0;34m[\u001b[0m\u001b[0;34m'NAME_1'\u001b[0m\u001b[0;34m]\u001b[0m\u001b[0;34m,\u001b[0m \u001b[0mstr_dict\u001b[0m\u001b[0;34m[\u001b[0m\u001b[0;34m'GID_1'\u001b[0m\u001b[0;34m]\u001b[0m\u001b[0;34m,\u001b[0m\u001b[0;34m\u001b[0m\u001b[0;34m\u001b[0m\u001b[0m\n\u001b[1;32m     20\u001b[0m                                        \u001b[0mstr_dict\u001b[0m\u001b[0;34m[\u001b[0m\u001b[0;34m'GID_1'\u001b[0m\u001b[0;34m]\u001b[0m\u001b[0;34m,\u001b[0m\u001b[0;34m\u001b[0m\u001b[0;34m\u001b[0m\u001b[0m\n\u001b[0;32m---> 21\u001b[0;31m                                        geojson, json.dumps(str_dict)))\n\u001b[0m",
      "\u001b[0;31mUndefinedColumn\u001b[0m: column \"gid\" of relation \"administrative_division\" does not exist\nLINE 1: ...a_1, adm_area_1_code,                             gid,      ...\n                                                             ^\n"
     ]
    }
   ],
   "source": [
    "# UPLOAD LAYER 1 - WITH GID\n",
    "\n",
    "with open(\"data/ITA_1.json\", \"r\") as content:\n",
    "    feature_data = json.load(content)\n",
    "with conn:\n",
    "    with conn.cursor() as cur:\n",
    "        import_feature_layer_1_WITH_GID(cur, feature_data)\n",
    "    conn.commit()"
   ]
  },
  {
   "cell_type": "code",
   "execution_count": 17,
   "metadata": {},
   "outputs": [
    {
     "data": {
      "text/plain": [
       "{'GID_0': 'ITA',\n",
       " 'NAME_0': 'Italy',\n",
       " 'GID_1': 'ITA.1_1',\n",
       " 'NAME_1': 'Abruzzo',\n",
       " 'VARNAME_1': 'Abruzos|Abruzzen|Abruzzes|Abruzzi',\n",
       " 'NL_NAME_1': '',\n",
       " 'TYPE_1': 'Regione',\n",
       " 'ENGTYPE_1': 'Region',\n",
       " 'CC_1': '13',\n",
       " 'HASC_1': ''}"
      ]
     },
     "execution_count": 17,
     "metadata": {},
     "output_type": "execute_result"
    }
   ],
   "source": [
    "with open(\"data/ITA_1.json\", \"r\") as content:\n",
    "    feature_data = json.load(content)\n",
    "    \n",
    "feature_data[\"features\"][0][\"properties\"]"
   ]
  },
  {
   "cell_type": "code",
   "execution_count": null,
   "metadata": {},
   "outputs": [],
   "source": [
    "# UPLOAD LAYER 2\n",
    "\n",
    "with open(\"data/ITA_2.json\", \"r\") as content:\n",
    "    feature_data = json.load(content)\n",
    "with conn:\n",
    "    with conn.cursor() as cur:\n",
    "        import_feature_layer_2(cur, feature_data)\n",
    "    conn.commit()"
   ]
  },
  {
   "cell_type": "code",
   "execution_count": 26,
   "metadata": {},
   "outputs": [],
   "source": [
    "# UPLOAD LAYER 3\n",
    "\n",
    "with open(\"data/ITA_3.json\", \"r\") as content:\n",
    "    feature_data = json.load(content)\n",
    "with conn:\n",
    "    with conn.cursor() as cur:\n",
    "        import_feature_layer_3(cur, feature_data)\n",
    "    conn.commit()"
   ]
  },
  {
   "cell_type": "code",
   "execution_count": 32,
   "metadata": {},
   "outputs": [],
   "source": [
    "# sql = \"\"\"DELETE FROM public.administrative_division \"\"\"\n",
    "# with conn:\n",
    "#     with conn.cursor() as cur:\n",
    "#         cur.execute(sql)\n",
    "#     conn.commit()"
   ]
  },
  {
   "cell_type": "code",
   "execution_count": null,
   "metadata": {},
   "outputs": [],
   "source": []
  }
 ],
 "metadata": {
  "kernelspec": {
   "display_name": "Python 3",
   "language": "python",
   "name": "python3"
  },
  "language_info": {
   "codemirror_mode": {
    "name": "ipython",
    "version": 3
   },
   "file_extension": ".py",
   "mimetype": "text/x-python",
   "name": "python",
   "nbconvert_exporter": "python",
   "pygments_lexer": "ipython3",
   "version": "3.7.4"
  }
 },
 "nbformat": 4,
 "nbformat_minor": 2
}

{
  "nbformat": 4,
  "nbformat_minor": 0,
  "metadata": {
    "kernelspec": {
      "display_name": "Python 3",
      "language": "python",
      "name": "python3"
    },
    "language_info": {
      "codemirror_mode": {
        "name": "ipython",
        "version": 3
      },
      "file_extension": ".py",
      "mimetype": "text/x-python",
      "name": "python",
      "nbconvert_exporter": "python",
      "pygments_lexer": "ipython3",
      "version": "3.7.4"
    },
    "colab": {
      "name": "INSERT_GADM_layers.ipynb",
      "provenance": [],
      "collapsed_sections": [],
      "toc_visible": true
    }
  },
  "cells": [
    {
      "cell_type": "code",
      "metadata": {
        "id": "KKUItq-fDG1V",
        "colab_type": "code",
        "outputId": "67292906-12a1-4ca1-d967-e936f2163beb",
        "colab": {
          "base_uri": "https://localhost:8080/",
          "height": 207
        }
      },
      "source": [
        "!pip install pyshp"
      ],
      "execution_count": 0,
      "outputs": [
        {
          "output_type": "stream",
          "text": [
            "Collecting pyshp\n",
            "\u001b[?25l  Downloading https://files.pythonhosted.org/packages/27/16/3bf15aa864fb77845fab8007eda22c2bd67bd6c1fd13496df452c8c43621/pyshp-2.1.0.tar.gz (215kB)\n",
            "\r\u001b[K     |█▌                              | 10kB 14.4MB/s eta 0:00:01\r\u001b[K     |███                             | 20kB 1.7MB/s eta 0:00:01\r\u001b[K     |████▋                           | 30kB 2.5MB/s eta 0:00:01\r\u001b[K     |██████                          | 40kB 3.1MB/s eta 0:00:01\r\u001b[K     |███████▋                        | 51kB 2.1MB/s eta 0:00:01\r\u001b[K     |█████████▏                      | 61kB 2.5MB/s eta 0:00:01\r\u001b[K     |██████████▋                     | 71kB 2.9MB/s eta 0:00:01\r\u001b[K     |████████████▏                   | 81kB 3.2MB/s eta 0:00:01\r\u001b[K     |█████████████▊                  | 92kB 3.6MB/s eta 0:00:01\r\u001b[K     |███████████████▏                | 102kB 2.8MB/s eta 0:00:01\r\u001b[K     |████████████████▊               | 112kB 2.8MB/s eta 0:00:01\r\u001b[K     |██████████████████▎             | 122kB 2.8MB/s eta 0:00:01\r\u001b[K     |███████████████████▉            | 133kB 2.8MB/s eta 0:00:01\r\u001b[K     |█████████████████████▎          | 143kB 2.8MB/s eta 0:00:01\r\u001b[K     |██████████████████████▉         | 153kB 2.8MB/s eta 0:00:01\r\u001b[K     |████████████████████████▍       | 163kB 2.8MB/s eta 0:00:01\r\u001b[K     |█████████████████████████▉      | 174kB 2.8MB/s eta 0:00:01\r\u001b[K     |███████████████████████████▍    | 184kB 2.8MB/s eta 0:00:01\r\u001b[K     |█████████████████████████████   | 194kB 2.8MB/s eta 0:00:01\r\u001b[K     |██████████████████████████████▍ | 204kB 2.8MB/s eta 0:00:01\r\u001b[K     |████████████████████████████████| 215kB 2.8MB/s eta 0:00:01\r\u001b[K     |████████████████████████████████| 225kB 2.8MB/s \n",
            "\u001b[?25hBuilding wheels for collected packages: pyshp\n",
            "  Building wheel for pyshp (setup.py) ... \u001b[?25l\u001b[?25hdone\n",
            "  Created wheel for pyshp: filename=pyshp-2.1.0-cp36-none-any.whl size=32609 sha256=a01a03940057fd4b9d65afd663619b1bdfd8b8761c718ca04047126779685e94\n",
            "  Stored in directory: /root/.cache/pip/wheels/a6/0c/de/321b5192ad416b328975a2f0385f72c64db4656501eba7cc1a\n",
            "Successfully built pyshp\n",
            "Installing collected packages: pyshp\n",
            "Successfully installed pyshp-2.1.0\n"
          ],
          "name": "stdout"
        }
      ]
    },
    {
      "cell_type": "markdown",
      "metadata": {
        "id": "epTs4CVgmb_W",
        "colab_type": "text"
      },
      "source": [
        "download the shapefiles from https://biogeo.ucdavis.edu/data/gadm3.6/gadm36_levels_shp.zip\n",
        "and place them in the directory gadm36_levels_shp"
      ]
    },
    {
      "cell_type": "code",
      "metadata": {
        "id": "rWDYSCJKEG8T",
        "colab_type": "code",
        "colab": {}
      },
      "source": [
        "import psycopg2\n",
        "import numpy as np\n",
        "import pandas as pd\n",
        "import shapefile\n",
        "from json import dumps\n",
        "\n",
        "# Connect to covid19db.org\n",
        "conn = psycopg2.connect(\n",
        "    host='covid19db.org',\n",
        "    port=5432,\n",
        "    dbname='covid19db_adm_play', #ADD THE INFO\n",
        "    user='covid19db_adm_rw',\n",
        "    password='fGt962FdeG2yXj3c4d3'\n",
        ")\n",
        "\n"
      ],
      "execution_count": 0,
      "outputs": []
    },
    {
      "cell_type": "markdown",
      "metadata": {
        "id": "GxqUFI2GEaw7",
        "colab_type": "text"
      },
      "source": [
        "# Helper Functions"
      ]
    },
    {
      "cell_type": "code",
      "metadata": {
        "id": "O1K7dFOnEf_k",
        "colab_type": "code",
        "colab": {}
      },
      "source": [
        "def flattenNestedList(nestedList):\n",
        "    ''' Converts a nested list to a flat list '''\n",
        "    flatList = []\n",
        "    # Iterate over all the elements in given list\n",
        "    for elem in nestedList:\n",
        "        # Check if type of element is list\n",
        "        if isinstance(elem, list) or isinstance(elem, tuple):\n",
        "            # Extend the flat list by adding contents of this element (list)\n",
        "            flatList.extend(flattenNestedList(list(elem)))\n",
        "        else:\n",
        "            # Append the elemengt to the list\n",
        "            flatList.append(elem)    \n",
        " \n",
        "    return flatList"
      ],
      "execution_count": 0,
      "outputs": []
    },
    {
      "cell_type": "markdown",
      "metadata": {
        "id": "xSShi8y-003w",
        "colab_type": "text"
      },
      "source": [
        "# LOAD THE ISO_3611 TABLE"
      ]
    },
    {
      "cell_type": "code",
      "metadata": {
        "id": "C_2wFiNZ06rW",
        "colab_type": "code",
        "colab": {}
      },
      "source": [
        "ISO_codes = pd.read_csv(\"data/ISO_3611.csv\", index_col=\"alpha-3\")"
      ],
      "execution_count": 0,
      "outputs": []
    },
    {
      "cell_type": "markdown",
      "metadata": {
        "id": "aZrl_Z-NocF6",
        "colab_type": "text"
      },
      "source": [
        "# LAYER PARSERS"
      ]
    },
    {
      "cell_type": "code",
      "metadata": {
        "id": "Dz25qiQlEXWH",
        "colab_type": "code",
        "colab": {}
      },
      "source": [
        "def import_feature_layer_0(cur,PATH):\n",
        "    \n",
        "    INSERT_STATEMENT = 'INSERT INTO public.administrative_division \\\n",
        "                            (country, countrycode, countrycode_alpha2, \\\n",
        "                            adm_level, \\\n",
        "                            adm_area_1, adm_area_1_code, \\\n",
        "                            gid, \\\n",
        "                            latitude, longitude, \\\n",
        "                            geometry, properties) \\\n",
        "                            VALUES (%s, %s, %s, \\\n",
        "                                    %s, \\\n",
        "                                    %s, \\\n",
        "                                    %s, %s, \\\n",
        "                                    ST_SetSRID(ST_GeomFromGeoJSON(%s), 4326), %s);'\n",
        "    \n",
        "    reader = shapefile.Reader(PATH)\n",
        "    fields = reader.fields[1:]\n",
        "    field_names = [field[0] for field in fields]\n",
        "\n",
        "    for sr in reader.shapeRecords():\n",
        "        atr = dict(zip(field_names, sr.record))\n",
        "        geom = sr.shape.__geo_interface__\n",
        "\n",
        "        # flatten the geometry to get the coordinates of its centroid\n",
        "        centroid = np.reshape(flattenNestedList(geom[\"coordinates\"]), (-1, 2)).mean(axis = 0)\n",
        "        latitude = centroid[1]\n",
        "        longitude = centroid[0]\n",
        "\n",
        "        # convert the country ISO alpha-3 found in GID_0 to alpha-2\n",
        "        country_ISO2 = ISO[\"alpha-2\"].get(atr['GID_0'], \"NaN\")\n",
        "\n",
        "        # we use the last non null GID_i as identifier\n",
        "        GID = atr['GID_0']\n",
        "\n",
        "        cur.execute(INSERT_STATEMENT, (atr['NAME_0'], atr['GID_0'], country_ISO2,\n",
        "                                       0, \n",
        "                                       GID,\n",
        "                                       latitude, longitude,\n",
        "                                       json.dumps(geom), json.dumps(atr)))"
      ],
      "execution_count": 0,
      "outputs": []
    },
    {
      "cell_type": "code",
      "metadata": {
        "id": "8Lmns8kWDG1v",
        "colab_type": "code",
        "colab": {}
      },
      "source": [
        "def import_feature_layer_1(cur,PATH):\n",
        "    \n",
        "    INSERT_STATEMENT = 'INSERT INTO public.administrative_division \\\n",
        "                            (country, countrycode, countrycode_alpha2, \\\n",
        "                            adm_level, \\\n",
        "                            adm_area_1, adm_area_1_code, \\\n",
        "                            gid, \\\n",
        "                            latitude, longitude, \\\n",
        "                            geometry, properties) \\\n",
        "                            VALUES (%s, %s, %s, \\\n",
        "                                    %s, \\\n",
        "                                    %s, %s, \\\n",
        "                                    %s, \\\n",
        "                                    %s, %s, \\\n",
        "                                    ST_SetSRID(ST_GeomFromGeoJSON(%s), 4326), %s);'\n",
        "    \n",
        "    reader = shapefile.Reader(PATH)\n",
        "    fields = reader.fields[1:]\n",
        "    field_names = [field[0] for field in fields]\n",
        "\n",
        "    for sr in reader.shapeRecords():\n",
        "        atr = dict(zip(field_names, sr.record))\n",
        "        geom = sr.shape.__geo_interface__\n",
        "\n",
        "        # flatten the geometry to get the coordinates of its centroid\n",
        "        centroid = np.reshape(flattenNestedList(geom[\"coordinates\"]), (-1, 2)).mean(axis = 0)\n",
        "        latitude = centroid[1]\n",
        "        longitude = centroid[0]\n",
        "\n",
        "        # convert the country ISO alpha-3 found in GID_0 to alpha-2\n",
        "        country_ISO2 = ISO[\"alpha-2\"].get(atr['GID_0'], \"NaN\")\n",
        "\n",
        "        # we use the last non null GID_i as identifier\n",
        "        GID = atr['GID_1']\n",
        "\n",
        "        cur.execute(INSERT_STATEMENT, (atr['NAME_0'], atr['GID_0'], country_ISO2,\n",
        "                                       1, \n",
        "                                       atr['NAME_1'], atr['GID_1'],\n",
        "                                       GID,\n",
        "                                       latitude, longitude,\n",
        "                                       json.dumps(geom), json.dumps(atr)))"
      ],
      "execution_count": 0,
      "outputs": []
    },
    {
      "cell_type": "code",
      "metadata": {
        "id": "aszcbiV5DG16",
        "colab_type": "code",
        "colab": {}
      },
      "source": [
        "def import_feature_layer_2(cur,PATH):\n",
        "    \n",
        "    INSERT_STATEMENT = 'INSERT INTO public.administrative_division \\\n",
        "                            (country, countrycode, countrycode_alpha2, \\\n",
        "                            adm_level, \\\n",
        "                            adm_area_1, adm_area_1_code, \\\n",
        "                            adm_area_2, adm_area_2_code, \\\n",
        "                            gid, \\\n",
        "                            latitude, longitude, \\\n",
        "                            geometry, properties) \\\n",
        "                            VALUES (%s, %s, %s, \\\n",
        "                                    %s, \\\n",
        "                                    %s, %s, \\\n",
        "                                    %s, %s, \\\n",
        "                                    %s, \\\n",
        "                                    %s, %s, \\\n",
        "                                    ST_SetSRID(ST_GeomFromGeoJSON(%s), 4326), %s);'\n",
        "    \n",
        "    reader = shapefile.Reader(PATH)\n",
        "    fields = reader.fields[1:]\n",
        "    field_names = [field[0] for field in fields]\n",
        "\n",
        "    for sr in reader.shapeRecords():\n",
        "        atr = dict(zip(field_names, sr.record))\n",
        "        geom = sr.shape.__geo_interface__\n",
        "\n",
        "        # flatten the geometry to get the coordinates of its centroid\n",
        "        centroid = np.reshape(flattenNestedList(geom[\"coordinates\"]), (-1, 2)).mean(axis = 0)\n",
        "        latitude = centroid[1]\n",
        "        longitude = centroid[0]\n",
        "\n",
        "        # convert the country ISO alpha-3 found in GID_0 to alpha-2\n",
        "        country_ISO2 = ISO[\"alpha-2\"].get(atr['GID_0'], \"NaN\")\n",
        "\n",
        "        # we use the last non null GID_i as identifier\n",
        "        GID = atr['GID_2']\n",
        "\n",
        "        cur.execute(INSERT_STATEMENT, (atr['NAME_0'], atr['GID_0'], country_ISO2,\n",
        "                                       2, \n",
        "                                       atr['NAME_1'], atr['GID_1'],\n",
        "                                       atr['NAME_2'], atr['GID_2'],\n",
        "                                       GID,\n",
        "                                       latitude, longitude,\n",
        "                                       json.dumps(geom), json.dumps(atr)))"
      ],
      "execution_count": 0,
      "outputs": []
    },
    {
      "cell_type": "code",
      "metadata": {
        "id": "u0ksvhMFDG2a",
        "colab_type": "code",
        "colab": {}
      },
      "source": [
        "def import_feature_layer_3(cur,PATH):\n",
        "    \n",
        "    INSERT_STATEMENT = 'INSERT INTO public.administrative_division \\\n",
        "                            (country, countrycode, countrycode_alpha2, \\\n",
        "                            adm_level, \\\n",
        "                            adm_area_1, adm_area_1_code, \\\n",
        "                            adm_area_2, adm_area_2_code, \\\n",
        "                            adm_area_3, adm_area_3_code, \\\n",
        "                            gid, \\\n",
        "                            latitude, longitude, \\\n",
        "                            geometry, properties) \\\n",
        "                            VALUES (%s, %s, %s, \\\n",
        "                                    %s, \\\n",
        "                                    %s, %s, \\\n",
        "                                    %s, %s, \\\n",
        "                                    %s, %s, \\\n",
        "                                    %s, \\\n",
        "                                    %s, %s, \\\n",
        "                                    ST_SetSRID(ST_GeomFromGeoJSON(%s), 4326), %s);'\n",
        "    \n",
        "    reader = shapefile.Reader(PATH)\n",
        "    fields = reader.fields[1:]\n",
        "    field_names = [field[0] for field in fields]\n",
        "\n",
        "    for sr in reader.shapeRecords():\n",
        "        atr = dict(zip(field_names, sr.record))\n",
        "        geom = sr.shape.__geo_interface__\n",
        "\n",
        "        # flatten the geometry to get the coordinates of its centroid\n",
        "        centroid = np.reshape(flattenNestedList(geom[\"coordinates\"]), (-1, 2)).mean(axis = 0)\n",
        "        latitude = centroid[1]\n",
        "        longitude = centroid[0]\n",
        "\n",
        "        # convert the country ISO alpha-3 found in GID_0 to alpha-2\n",
        "        country_ISO2 = ISO[\"alpha-2\"].get(atr['GID_0'], \"NaN\")\n",
        "\n",
        "        # we use the last non null GID_i as identifier\n",
        "        GID = atr['GID_3']\n",
        "\n",
        "        cur.execute(INSERT_STATEMENT, (atr['NAME_0'], atr['GID_0'], country_ISO2,\n",
        "                                       3, \n",
        "                                       atr['NAME_1'], atr['GID_1'],\n",
        "                                       atr['NAME_2'], atr['GID_2'],\n",
        "                                       atr['NAME_3'], atr['GID_3'],\n",
        "                                       GID,\n",
        "                                       latitude, longitude,\n",
        "                                       json.dumps(geom), json.dumps(atr)))"
      ],
      "execution_count": 0,
      "outputs": []
    },
    {
      "cell_type": "markdown",
      "metadata": {
        "id": "y2Sh6vUjm2nI",
        "colab_type": "text"
      },
      "source": [
        "# UPLOAD LAYERS"
      ]
    },
    {
      "cell_type": "code",
      "metadata": {
        "id": "XUyXQuktDG3D",
        "colab_type": "code",
        "colab": {}
      },
      "source": [
        "# UPLOAD LAYER 0\n",
        "\n",
        "PATH_0 = \"gadm36_levels_shp/gadm36_0\"\n",
        "\n",
        "with conn:\n",
        "    with conn.cursor() as cur:\n",
        "        import_feature_layer_0(cur, PATH_0)\n",
        "    conn.commit()"
      ],
      "execution_count": 0,
      "outputs": []
    },
    {
      "cell_type": "code",
      "metadata": {
        "id": "Ay5OUbcuDG3e",
        "colab_type": "code",
        "colab": {}
      },
      "source": [
        "# UPLOAD LAYER 1\n",
        "\n",
        "PATH_0 = \"gadm36_levels_shp/gadm36_1\"\n",
        "\n",
        "with conn:\n",
        "    with conn.cursor() as cur:\n",
        "        import_feature_layer_2(cur, PATH_1)\n",
        "    conn.commit()"
      ],
      "execution_count": 0,
      "outputs": []
    },
    {
      "cell_type": "code",
      "metadata": {
        "id": "Agld-l0-DG38",
        "colab_type": "code",
        "colab": {}
      },
      "source": [
        "# UPLOAD LAYER 2\n",
        "\n",
        "PATH_2 = \"gadm36_levels_shp/gadm36_2\"\n",
        "\n",
        "with conn:\n",
        "    with conn.cursor() as cur:\n",
        "        import_feature_layer_2(cur, PATH_2)\n",
        "    conn.commit()"
      ],
      "execution_count": 0,
      "outputs": []
    },
    {
      "cell_type": "code",
      "metadata": {
        "id": "wcKm8OFE0Hce",
        "colab_type": "code",
        "colab": {
          "base_uri": "https://localhost:8080/",
          "height": 395
        },
        "outputId": "ddeecdc8-f700-45bf-878d-00e9cabeb79d"
      },
      "source": [
        "# there seems to be some missing data on NAME_2 at level 2\n",
        "# lets check \n",
        "reader = shapefile.Reader(PATH_2)\n",
        "fields = reader.fields[1:]\n",
        "field_names = [field[0] for field in fields]\n",
        "\n",
        "for sr in reader.shapeRecords():\n",
        "    atr = dict(zip(field_names, sr.record))\n",
        "    geom = sr.shape.__geo_interface__\n",
        "\n",
        "    if atr['NAME_2'] == \"\":\n",
        "        print(atr['NAME_0'], atr['GID_0'], atr['NAME_1'], atr['GID_1'],\n",
        "              atr['NAME_2'], atr['GID_2'])"
      ],
      "execution_count": 20,
      "outputs": [
        {
          "output_type": "error",
          "ename": "ShapefileException",
          "evalue": "ignored",
          "traceback": [
            "\u001b[0;31m---------------------------------------------------------------------------\u001b[0m",
            "\u001b[0;31mShapefileException\u001b[0m                        Traceback (most recent call last)",
            "\u001b[0;32m<ipython-input-20-9cc5238002f0>\u001b[0m in \u001b[0;36m<module>\u001b[0;34m()\u001b[0m\n\u001b[0;32m----> 1\u001b[0;31m \u001b[0mreader\u001b[0m \u001b[0;34m=\u001b[0m \u001b[0mshapefile\u001b[0m\u001b[0;34m.\u001b[0m\u001b[0mReader\u001b[0m\u001b[0;34m(\u001b[0m\u001b[0mPATH_2\u001b[0m\u001b[0;34m)\u001b[0m\u001b[0;34m\u001b[0m\u001b[0;34m\u001b[0m\u001b[0m\n\u001b[0m\u001b[1;32m      2\u001b[0m \u001b[0mfields\u001b[0m \u001b[0;34m=\u001b[0m \u001b[0mreader\u001b[0m\u001b[0;34m.\u001b[0m\u001b[0mfields\u001b[0m\u001b[0;34m[\u001b[0m\u001b[0;36m1\u001b[0m\u001b[0;34m:\u001b[0m\u001b[0;34m]\u001b[0m\u001b[0;34m\u001b[0m\u001b[0;34m\u001b[0m\u001b[0m\n\u001b[1;32m      3\u001b[0m \u001b[0mfield_names\u001b[0m \u001b[0;34m=\u001b[0m \u001b[0;34m[\u001b[0m\u001b[0mfield\u001b[0m\u001b[0;34m[\u001b[0m\u001b[0;36m0\u001b[0m\u001b[0;34m]\u001b[0m \u001b[0;32mfor\u001b[0m \u001b[0mfield\u001b[0m \u001b[0;32min\u001b[0m \u001b[0mfields\u001b[0m\u001b[0;34m]\u001b[0m\u001b[0;34m\u001b[0m\u001b[0;34m\u001b[0m\u001b[0m\n\u001b[1;32m      4\u001b[0m \u001b[0;34m\u001b[0m\u001b[0m\n\u001b[1;32m      5\u001b[0m \u001b[0;32mfor\u001b[0m \u001b[0msr\u001b[0m \u001b[0;32min\u001b[0m \u001b[0mreader\u001b[0m\u001b[0;34m.\u001b[0m\u001b[0mshapeRecords\u001b[0m\u001b[0;34m(\u001b[0m\u001b[0;34m)\u001b[0m\u001b[0;34m:\u001b[0m\u001b[0;34m\u001b[0m\u001b[0;34m\u001b[0m\u001b[0m\n",
            "\u001b[0;32m/usr/local/lib/python3.6/dist-packages/shapefile.py\u001b[0m in \u001b[0;36m__init__\u001b[0;34m(self, *args, **kwargs)\u001b[0m\n\u001b[1;32m    551\u001b[0m         \u001b[0;32mif\u001b[0m \u001b[0mlen\u001b[0m\u001b[0;34m(\u001b[0m\u001b[0margs\u001b[0m\u001b[0;34m)\u001b[0m \u001b[0;34m>\u001b[0m \u001b[0;36m0\u001b[0m\u001b[0;34m:\u001b[0m\u001b[0;34m\u001b[0m\u001b[0;34m\u001b[0m\u001b[0m\n\u001b[1;32m    552\u001b[0m             \u001b[0;32mif\u001b[0m \u001b[0mis_string\u001b[0m\u001b[0;34m(\u001b[0m\u001b[0margs\u001b[0m\u001b[0;34m[\u001b[0m\u001b[0;36m0\u001b[0m\u001b[0;34m]\u001b[0m\u001b[0;34m)\u001b[0m\u001b[0;34m:\u001b[0m\u001b[0;34m\u001b[0m\u001b[0;34m\u001b[0m\u001b[0m\n\u001b[0;32m--> 553\u001b[0;31m                 \u001b[0mself\u001b[0m\u001b[0;34m.\u001b[0m\u001b[0mload\u001b[0m\u001b[0;34m(\u001b[0m\u001b[0margs\u001b[0m\u001b[0;34m[\u001b[0m\u001b[0;36m0\u001b[0m\u001b[0;34m]\u001b[0m\u001b[0;34m)\u001b[0m\u001b[0;34m\u001b[0m\u001b[0;34m\u001b[0m\u001b[0m\n\u001b[0m\u001b[1;32m    554\u001b[0m                 \u001b[0;32mreturn\u001b[0m\u001b[0;34m\u001b[0m\u001b[0;34m\u001b[0m\u001b[0m\n\u001b[1;32m    555\u001b[0m         \u001b[0;32mif\u001b[0m \u001b[0;34m\"shp\"\u001b[0m \u001b[0;32min\u001b[0m \u001b[0mkwargs\u001b[0m\u001b[0;34m.\u001b[0m\u001b[0mkeys\u001b[0m\u001b[0;34m(\u001b[0m\u001b[0;34m)\u001b[0m\u001b[0;34m:\u001b[0m\u001b[0;34m\u001b[0m\u001b[0;34m\u001b[0m\u001b[0m\n",
            "\u001b[0;32m/usr/local/lib/python3.6/dist-packages/shapefile.py\u001b[0m in \u001b[0;36mload\u001b[0;34m(self, shapefile)\u001b[0m\n\u001b[1;32m    644\u001b[0m             \u001b[0mself\u001b[0m\u001b[0;34m.\u001b[0m\u001b[0mload_dbf\u001b[0m\u001b[0;34m(\u001b[0m\u001b[0mshapeName\u001b[0m\u001b[0;34m)\u001b[0m\u001b[0;34m\u001b[0m\u001b[0;34m\u001b[0m\u001b[0m\n\u001b[1;32m    645\u001b[0m             \u001b[0;32mif\u001b[0m \u001b[0;32mnot\u001b[0m \u001b[0;34m(\u001b[0m\u001b[0mself\u001b[0m\u001b[0;34m.\u001b[0m\u001b[0mshp\u001b[0m \u001b[0;32mor\u001b[0m \u001b[0mself\u001b[0m\u001b[0;34m.\u001b[0m\u001b[0mdbf\u001b[0m\u001b[0;34m)\u001b[0m\u001b[0;34m:\u001b[0m\u001b[0;34m\u001b[0m\u001b[0;34m\u001b[0m\u001b[0m\n\u001b[0;32m--> 646\u001b[0;31m                 \u001b[0;32mraise\u001b[0m \u001b[0mShapefileException\u001b[0m\u001b[0;34m(\u001b[0m\u001b[0;34m\"Unable to open %s.dbf or %s.shp.\"\u001b[0m \u001b[0;34m%\u001b[0m \u001b[0;34m(\u001b[0m\u001b[0mshapeName\u001b[0m\u001b[0;34m,\u001b[0m \u001b[0mshapeName\u001b[0m\u001b[0;34m)\u001b[0m\u001b[0;34m)\u001b[0m\u001b[0;34m\u001b[0m\u001b[0;34m\u001b[0m\u001b[0m\n\u001b[0m\u001b[1;32m    647\u001b[0m         \u001b[0;32mif\u001b[0m \u001b[0mself\u001b[0m\u001b[0;34m.\u001b[0m\u001b[0mshp\u001b[0m\u001b[0;34m:\u001b[0m\u001b[0;34m\u001b[0m\u001b[0;34m\u001b[0m\u001b[0m\n\u001b[1;32m    648\u001b[0m             \u001b[0mself\u001b[0m\u001b[0;34m.\u001b[0m\u001b[0m__shpHeader\u001b[0m\u001b[0;34m(\u001b[0m\u001b[0;34m)\u001b[0m\u001b[0;34m\u001b[0m\u001b[0;34m\u001b[0m\u001b[0m\n",
            "\u001b[0;31mShapefileException\u001b[0m: Unable to open gadm36_levels_shp/gadm36_2.dbf or gadm36_levels_shp/gadm36_2.shp."
          ]
        }
      ]
    },
    {
      "cell_type": "code",
      "metadata": {
        "id": "WvmQLjnHDG4B",
        "colab_type": "code",
        "colab": {}
      },
      "source": [
        "# UPLOAD LAYER 3\n",
        "\n",
        "PATH_3 = \"gadm36_levels_shp/gadm36_3\"\n",
        "\n",
        "with conn:\n",
        "    with conn.cursor() as cur:\n",
        "        import_feature_layer_3(cur, PATH_3)\n",
        "    conn.commit()"
      ],
      "execution_count": 0,
      "outputs": []
    },
    {
      "cell_type": "code",
      "metadata": {
        "id": "8WQ9cf4EDG4G",
        "colab_type": "code",
        "colab": {}
      },
      "source": [
        "# sql = \"\"\"DELETE FROM public.administrative_division \"\"\"\n",
        "# with conn:\n",
        "#     with conn.cursor() as cur:\n",
        "#         cur.execute(sql)\n",
        "#     conn.commit()"
      ],
      "execution_count": 0,
      "outputs": []
    },
    {
      "cell_type": "code",
      "metadata": {
        "id": "33FjAN_KDG4K",
        "colab_type": "code",
        "colab": {}
      },
      "source": [
        ""
      ],
      "execution_count": 0,
      "outputs": []
    }
  ]
}